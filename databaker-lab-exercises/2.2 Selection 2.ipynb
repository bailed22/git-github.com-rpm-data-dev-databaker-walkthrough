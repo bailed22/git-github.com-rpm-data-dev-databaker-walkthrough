{
 "cells": [
  {
   "cell_type": "markdown",
   "metadata": {},
   "source": [
    "### Selection Exercise 1\n",
    "\n",
    "This example uses the same source as previously, but this time we're going to acquire the data and make multiple selections (and have a look at what each selection contains).\n",
    "\n",
    "All code cells in this notebook can be run directly, by selecting the cell then the play icon on the above ribbon.\n",
    "\n",
    "![](./images/example1_spreadsheet.png)"
   ]
  },
  {
   "cell_type": "code",
   "execution_count": 3,
   "metadata": {},
   "outputs": [
    {
     "data": {
      "text/markdown": [
       "**Example dataset 1**\n"
      ],
      "text/plain": [
       "<IPython.core.display.Markdown object>"
      ]
     },
     "metadata": {},
     "output_type": "display_data"
    },
    {
     "data": {
      "text/markdown": [
       "this is an example dataset for the walkthroughs.\n"
      ],
      "text/plain": [
       "<IPython.core.display.Markdown object>"
      ]
     },
     "metadata": {},
     "output_type": "display_data"
    },
    {
     "data": {
      "text/plain": []
     },
     "execution_count": 3,
     "metadata": {},
     "output_type": "execute_result"
    }
   ],
   "source": [
    "# NOTE - you can run me!\n",
    "\n",
    "# Acquisition\n",
    "\n",
    "from databaker.framework import *\n",
    "from tutorialResources.scraper import Scraper\n",
    "\n",
    "scraper = Scraper(\"https://www.fake-website.com/example1\")\n",
    "scraper"
   ]
  },
  {
   "cell_type": "markdown",
   "metadata": {},
   "source": [
    "------\n",
    "*Once you've run the above cell.....*\n",
    "\n",
    "You'll see some output, this is an example of output the scraper generates while its run (basically a sanity check) - the current practice is for information on distributions acquired by the scraping process to be output here as well, as a convenience, so the data engineer to see what they've got to work with.\n",
    "\n",
    "For now, we're just concerned with the source dataset (i.e observations and dimensions) and how to select them from a spreadsheet with databaker, so be aware of but otherwise ignore the above metadata output.\n",
    "\n",
    "------"
   ]
  },
  {
   "cell_type": "code",
   "execution_count": 4,
   "metadata": {},
   "outputs": [
    {
     "name": "stdout",
     "output_type": "stream",
     "text": [
      "We've successfully added some cells to the variables observations, assets, group and name!\n"
     ]
    }
   ],
   "source": [
    "# NOTE - run me!\n",
    "\n",
    "# Selection\n",
    "\n",
    "# Get the sheets from the scraped distribution as a list of databaker-style \"tabs\"\n",
    "# A \"tab\" as created this way is a \"bags of cells\", that is to say a python \"bag\" object, holding a list of \"cell\" objects\n",
    "tabs = scraper.distribution.as_databaker()\n",
    "\n",
    "# Filter out the tabs we dont want with a python list comprehension\n",
    "# NOTE - databaker \"tabs\" always have a .name property - it's a good one to remember\n",
    "tabs = [x for x in tabs if x.name != \"sheet1\"]\n",
    "\n",
    "# Typically, we'd iterate the tabs in the following fashion\n",
    "for tab in tabs:\n",
    "    \n",
    "    # do....stuff! (usually)\n",
    "    pass\n",
    "\n",
    "\n",
    "# ----\n",
    "# Instead, for this example we'll do it without the loop - just remember that's the exception rather than the rule\n",
    "\n",
    "tab = tabs[0] # get our one tab\n",
    "\n",
    "# Create a (cellbag?) that represents the observations\n",
    "observations = tab.excel_ref(\"C5\").expand(DOWN).expand(RIGHT).is_not_blank()\n",
    "    \n",
    "# Create a cellbag with the cells that represent the \"Assets\" dimension\n",
    "assets = tab.excel_ref(\"C3\").expand(RIGHT).is_not_blank()\n",
    "    \n",
    "# Create a cellbag with the cells that represent the \"Group\" dimension\n",
    "group = tab.excel_ref(\"A5\").expand(DOWN).is_not_blank()\n",
    "    \n",
    "# Create a cellbag with the cells that represnt the \"Name\" dimension\n",
    "name = tab.excel_ref(\"B5\").fill(DOWN).is_not_blank() # RM i thought using fill would exclude the cell reference, shouldn't we be using expand?\n",
    "\n",
    "print(\"We've successfully added some cells to the variables observations, assets, group and name!\")"
   ]
  },
  {
   "cell_type": "markdown",
   "metadata": {},
   "source": [
    "-----\n",
    "\n",
    "## Print the contents of each of the cellbags\n",
    "\n",
    "We're just going to use fact that jupyter by default prints any lone variables that finish a code cell. Otherwise you'd need to use a python print() statement.\n",
    "\n",
    "**NOTE**: if you call print an individual cellBag object it will always print \"cells\" in the form of `<EXCEL_REF, VALUE>`."
   ]
  },
  {
   "cell_type": "code",
   "execution_count": 10,
   "metadata": {},
   "outputs": [
    {
     "data": {
      "text/plain": [
       "{<C6 2.0>, <E10 13.0>, <E11 6.0>, <C13 3.0>, <E7 2.0>, <D6 4.0>, <E12 4.0>, <C5 1.0>, <D11 5.0>, <E6 6.0>, <D13 3.0>, <E5 1.0>, <C12 2.0>, <C10 6.0>, <E13 22.0>, <D5 6.0>, <E8 5.0>, <C11 5.0>, <D8 2.0>, <D10 5.0>, <D12 5.0>, <C7 3.0>, <C8 8.0>, <D7 3.0>}"
      ]
     },
     "execution_count": 10,
     "metadata": {},
     "output_type": "execute_result"
    }
   ],
   "source": [
    "# NOTE - run me!\n",
    "observations"
   ]
  },
  {
   "cell_type": "code",
   "execution_count": 11,
   "metadata": {},
   "outputs": [
    {
     "data": {
      "text/plain": [
       "{<E3 'Businesses'>, <C3 'Houses'>, <D3 'Cars'>}"
      ]
     },
     "execution_count": 11,
     "metadata": {},
     "output_type": "execute_result"
    }
   ],
   "source": [
    "# NOTE - run me!\n",
    "assets"
   ]
  },
  {
   "cell_type": "code",
   "execution_count": 12,
   "metadata": {},
   "outputs": [
    {
     "data": {
      "text/plain": [
       "{<A5 'Beatles'>, <A10 'Rollin Stones'>}"
      ]
     },
     "execution_count": 12,
     "metadata": {},
     "output_type": "execute_result"
    }
   ],
   "source": [
    "# NOTE - run me!\n",
    "group"
   ]
  },
  {
   "cell_type": "code",
   "execution_count": 13,
   "metadata": {},
   "outputs": [
    {
     "data": {
      "text/plain": [
       "{<B8 'Ringo'>, <B7 'George'>, <B12 'Ronnie'>, <B11 'Keith'>, <B10 'Mick'>, <B13 'Charlie'>, <B6 'Paul'>}"
      ]
     },
     "execution_count": 13,
     "metadata": {},
     "output_type": "execute_result"
    }
   ],
   "source": [
    "# NOTE - run me!\n",
    "name\n",
    "# RM yeh it looks like using fill caused john to be excluded"
   ]
  },
  {
   "cell_type": "code",
   "execution_count": null,
   "metadata": {},
   "outputs": [],
   "source": []
  }
 ],
 "metadata": {
  "kernelspec": {
   "display_name": "Python 3",
   "language": "python",
   "name": "python3"
  },
  "language_info": {
   "codemirror_mode": {
    "name": "ipython",
    "version": 3
   },
   "file_extension": ".py",
   "mimetype": "text/x-python",
   "name": "python",
   "nbconvert_exporter": "python",
   "pygments_lexer": "ipython3",
   "version": "3.9.9"
  }
 },
 "nbformat": 4,
 "nbformat_minor": 4
}
